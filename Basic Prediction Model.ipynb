{
 "cells": [
  {
   "cell_type": "code",
   "execution_count": 18,
   "metadata": {
    "collapsed": false
   },
   "outputs": [],
   "source": [
    "%matplotlib inline"
   ]
  },
  {
   "cell_type": "markdown",
   "metadata": {},
   "source": [
    "\n",
    "# Linear Regression (normalization vs. standarlization） \n",
    "\n",
    "Standardization of datasets is a common requirement for many machine learning estimators implemented in scikit-learn; they might behave badly if the individual features do not more or less look like standard normally distributed data: Gaussian with zero mean and unit variance.\n",
    "\n",
    "Normalization is the process of scaling individual samples to have unit norm. This process can be useful if you plan to use a quadratic form such as the dot-product or any other kernel to quantify the similarity of any pair of samples."
   ]
  },
  {
   "cell_type": "code",
   "execution_count": 19,
   "metadata": {
    "collapsed": false,
    "scrolled": true
   },
   "outputs": [],
   "source": [
    "import numpy as np\n",
    "import matplotlib.pyplot as plt\n",
    "import pandas as pd\n",
    "import pyflux as pf\n",
    "from sklearn import preprocessing\n",
    "import numpy as np\n",
    "from readers.mat_reader import MatReader\n",
    "from sklearn import datasets, linear_model\n",
    "\n",
    "# Load the diabetes dataset\n",
    "mat_reader = MatReader()\n",
    "ts_train, xs_train, ys_train = mat_reader.read('ColdComplaintData/Training')\n",
    "ts_test, xs_test, ys_test = mat_reader.read('ColdComplaintData/Testing')\n",
    "# print xs_train,xs_n"
   ]
  },
  {
   "cell_type": "code",
   "execution_count": 20,
   "metadata": {
    "collapsed": true
   },
   "outputs": [],
   "source": [
    "# doing standalization\n",
    "xs_scaled = preprocessing.scale(xs_train)\n",
    "xs_test_scaled = preprocessing.scale(xs_test)"
   ]
  },
  {
   "cell_type": "markdown",
   "metadata": {},
   "source": [
    "## Scaling features to a range¶\n",
    "An alternative standardization is scaling features to lie between a given minimum and maximum value, often between zero and one, or so that the maximum absolute value of each feature is scaled to unit size."
   ]
  },
  {
   "cell_type": "code",
   "execution_count": 21,
   "metadata": {
    "collapsed": true
   },
   "outputs": [],
   "source": [
    "# scailing in [0,1] range\n",
    "# X_std = (X - X.min(axis=0)) / (X.max(axis=0) - X.min(axis=0))\n",
    "# X_scaled = X_std / (max - min) + min\n",
    "\n",
    "min_max_scaler = preprocessing.MinMaxScaler()\n",
    "xs_train_minmax = min_max_scaler.fit_transform(xs_train)\n",
    "xs_test_minmax = min_max_scaler.fit_transform(xs_test)\n"
   ]
  },
  {
   "cell_type": "code",
   "execution_count": 22,
   "metadata": {
    "collapsed": true
   },
   "outputs": [],
   "source": [
    "#Normalization is the process of scaling individual samples to have unit norm. \n",
    "# This process can be useful if you plan to use a quadratic form such as the dot-product \n",
    "#or any other kernel to quantify the similarity of any pair of samples.\n",
    "\n",
    "xs_normalized = preprocessing.normalize(xs_train, norm='l2')\n",
    "xs_test_n = preprocessing.normalize(xs_test, norm='l2')"
   ]
  },
  {
   "cell_type": "code",
   "execution_count": 23,
   "metadata": {
    "collapsed": false
   },
   "outputs": [
    {
     "name": "stdout",
     "output_type": "stream",
     "text": [
      "56.2550194459\n",
      "[  1.01363756e-01   2.15480126e-01  -6.27258459e-01  -3.60593765e-03\n",
      "   4.87607889e-04   9.40904816e-04   2.04214860e-01  -1.22757294e-02\n",
      "  -7.81813227e-05]\n",
      "68.5888794622\n",
      "[ -4.21421557e+03   8.17659437e+02  -1.40354176e+03  -1.12991327e+01\n",
      "   1.65707852e+01   9.54551386e+00  -1.59492217e+02  -3.89285559e+01\n",
      "   2.47314339e+00]\n",
      "71.8739066688\n",
      "[ 0.04905629  0.39281986 -0.30357682 -0.11886565  0.02331005  0.34490004\n",
      "  0.45203654 -0.08000589 -0.29695012]\n",
      "71.0406738066\n",
      "[ 0.10136376  1.07740063 -0.62725846 -0.36059376  0.04876079  1.37830806\n",
      "  2.42894338 -0.35599615 -0.78189141]\n"
     ]
    },
    {
     "data": {
      "image/png": "[encoded data removed]",
      "text/plain": [
       "<matplotlib.figure.Figure at 0x11f3b5e50>"
      ]
     },
     "metadata": {},
     "output_type": "display_data"
    }
   ],
   "source": [
    "# Create linear regression object\n",
    "regr = linear_model.LinearRegression()\n",
    "\n",
    "# Train the model using the training sets\n",
    "regr.fit(xs_train, ys_train)\n",
    "residual1 = regr.predict(xs_test)\n",
    "print regr.intercept_\n",
    "print regr.coef_\n",
    "\n",
    "regr.fit(xs_normalized, ys_train)\n",
    "residual2 = regr.predict(xs_test_n)\n",
    "print regr.intercept_\n",
    "print regr.coef_\n",
    "\n",
    "regr.fit(xs_scaled, ys_train)\n",
    "residual3 = regr.predict(xs_test_scaled)\n",
    "print regr.intercept_\n",
    "print regr.coef_\n",
    "\n",
    "regr.fit(xs_train_minmax, ys_train)\n",
    "residual4 = regr.predict(xs_test_minmax)\n",
    "print regr.intercept_\n",
    "print regr.coef_\n",
    "\n",
    "\n",
    "# Plot outputs\n",
    "plt.plot(ts_test, ys_test,  color='black')\n",
    "plt.plot(ts_test, residual1, color='blue')\n",
    "plt.plot(ts_test, residual2, color='green')\n",
    "plt.plot(ts_test, residual3, color='red')\n",
    "plt.plot(ts_test, residual4, color='yellow')\n",
    "\n",
    "plt.show()"
   ]
  }
 ],
 "metadata": {
  "anaconda-cloud": {},
  "kernelspec": {
   "display_name": "Python [Root]",
   "language": "python",
   "name": "Python [Root]"
  },
  "language_info": {
   "codemirror_mode": {
    "name": "ipython",
    "version": 2
   },
   "file_extension": ".py",
   "mimetype": "text/x-python",
   "name": "python",
   "nbconvert_exporter": "python",
   "pygments_lexer": "ipython2",
   "version": "2.7.12"
  }
 },
 "nbformat": 4,
 "nbformat_minor": 0
}
