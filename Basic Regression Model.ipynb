{
 "cells": [
  {
   "cell_type": "code",
   "execution_count": 13,
   "metadata": {
    "collapsed": false
   },
   "outputs": [],
   "source": [
    "%matplotlib inline"
   ]
  },
  {
   "cell_type": "markdown",
   "metadata": {},
   "source": [
    "\n",
    "# Linear Regression (normalization vs. standarlization） \n",
    "\n",
    "Standardization of datasets is a common requirement for many machine learning estimators implemented in scikit-learn; they might behave badly if the individual features do not more or less look like standard normally distributed data: Gaussian with zero mean and unit variance.\n",
    "\n",
    "Normalization is the process of scaling individual samples to have unit norm. This process can be useful if you plan to use a quadratic form such as the dot-product or any other kernel to quantify the similarity of any pair of samples."
   ]
  },
  {
   "cell_type": "code",
   "execution_count": 14,
   "metadata": {
    "collapsed": false,
    "scrolled": true
   },
   "outputs": [],
   "source": [
    "import numpy as np\n",
    "import matplotlib.pyplot as plt\n",
    "import pandas as pd\n",
    "import pyflux as pf\n",
    "from sklearn import preprocessing\n",
    "import numpy as np\n",
    "from readers.mat_reader import MatReader\n",
    "from sklearn import datasets, linear_model\n",
    "\n",
    "# Load the diabetes dataset\n",
    "mat_reader = MatReader()\n",
    "ts_train, xs_train, ys_train = mat_reader.read('ColdComplaintData/Training')\n",
    "ts_test, xs_test, ys_test = mat_reader.read('ColdComplaintData/Testing')\n",
    "# print xs_train,xs_n"
   ]
  },
  {
   "cell_type": "code",
   "execution_count": 15,
   "metadata": {
    "collapsed": true
   },
   "outputs": [],
   "source": [
    "#Normalization is the process of scaling individual samples to have unit norm. \n",
    "# This process can be useful if you plan to use a quadratic form such as the dot-product \n",
    "#or any other kernel to quantify the similarity of any pair of samples.\n",
    "\n",
    "xs_normalized = preprocessing.normalize(xs_train, norm='l2')\n",
    "xs_test_n = preprocessing.normalize(xs_test, norm='l2')"
   ]
  },
  {
   "cell_type": "markdown",
   "metadata": {},
   "source": [
    "## Scaling features to a range¶\n",
    "An alternative standardization is scaling features to lie between a given minimum and maximum value, often between zero and one, or so that the maximum absolute value of each feature is scaled to unit size."
   ]
  },
  {
   "cell_type": "code",
   "execution_count": 16,
   "metadata": {
    "collapsed": false
   },
   "outputs": [],
   "source": [
    "# doing standalization\n",
    "xs_scaled = preprocessing.scale(xs_normalized)\n",
    "xs_test_scaled = preprocessing.scale(xs_test_n)"
   ]
  },
  {
   "cell_type": "code",
   "execution_count": 17,
   "metadata": {
    "collapsed": true
   },
   "outputs": [],
   "source": [
    "# scailing in [0,1] range\n",
    "# X_std = (X - X.min(axis=0)) / (X.max(axis=0) - X.min(axis=0))\n",
    "# X_scaled = X_std / (max - min) + min\n",
    "\n",
    "min_max_scaler = preprocessing.MinMaxScaler()\n",
    "xs_train_minmax = min_max_scaler.fit_transform(xs_normalized)\n",
    "xs_test_minmax = min_max_scaler.fit_transform(xs_test_n)\n"
   ]
  },
  {
   "cell_type": "code",
   "execution_count": 18,
   "metadata": {
    "collapsed": false
   },
   "outputs": [
    {
     "name": "stdout",
     "output_type": "stream",
     "text": [
      "56.2550194459\n",
      "[  1.01363756e-01   2.15480126e-01  -6.27258459e-01  -3.60593765e-03\n",
      "   4.87607889e-04   9.40904816e-04   2.04214860e-01  -1.22757294e-02\n",
      "  -7.81813227e-05]\n",
      "68.5888794622\n",
      "[ -4.21421557e+03   8.17659437e+02  -1.40354176e+03  -1.12991327e+01\n",
      "   1.65707852e+01   9.54551386e+00  -1.59492217e+02  -3.89285559e+01\n",
      "   2.47314339e+00]\n",
      "71.8739066688\n",
      "[-0.22572727  0.48178972 -0.07517939 -0.12470939  0.21041652  2.8769813\n",
      " -1.34413501 -0.22579941  0.89198895]\n",
      "68.9283919607\n",
      "[-2.23563017  2.12868644 -0.74457518 -0.61120291  0.89098902  8.04024651\n",
      " -5.47690179 -1.08815641  2.44227223]\n"
     ]
    },
    {
     "data": {
      "image/png": "[encoded data removed]",
      "text/plain": [
       "<matplotlib.figure.Figure at 0x11948f410>"
      ]
     },
     "metadata": {},
     "output_type": "display_data"
    }
   ],
   "source": [
    "# Create linear regression object\n",
    "regr = linear_model.LinearRegression()\n",
    "\n",
    "# Train the model using the training sets\n",
    "regr.fit(xs_train, ys_train)\n",
    "residual1 = regr.predict(xs_test)\n",
    "print regr.intercept_\n",
    "print regr.coef_\n",
    "\n",
    "regr.fit(xs_normalized, ys_train)\n",
    "residual2 = regr.predict(xs_test_n)\n",
    "print regr.intercept_\n",
    "print regr.coef_\n",
    "\n",
    "regr.fit(xs_scaled, ys_train)\n",
    "residual3 = regr.predict(xs_test_scaled)\n",
    "print regr.intercept_\n",
    "print regr.coef_\n",
    "\n",
    "regr.fit(xs_train_minmax, ys_train)\n",
    "residual4 = regr.predict(xs_test_minmax)\n",
    "print regr.intercept_\n",
    "print regr.coef_\n",
    "\n",
    "\n",
    "# Plot outputs\n",
    "plt.plot(ts_test, ys_test,  color='black') # actural data\n",
    "plt.plot(ts_test, residual1, color='blue') # without normalization\n",
    "plt.plot(ts_test, residual2, color='green') # do normalization\n",
    "plt.plot(ts_test, residual3, color='red') #do normalization & standarlization\n",
    "plt.plot(ts_test, residual4, color='yellow') # do Norm. & minmax standalization\n",
    "\n",
    "plt.show()"
   ]
  },
  {
   "cell_type": "code",
   "execution_count": null,
   "metadata": {
    "collapsed": true
   },
   "outputs": [],
   "source": []
  }
 ],
 "metadata": {
  "anaconda-cloud": {},
  "kernelspec": {
   "display_name": "Python 2",
   "language": "python",
   "name": "python2"
  },
  "language_info": {
   "codemirror_mode": {
    "name": "ipython",
    "version": 2
   },
   "file_extension": ".py",
   "mimetype": "text/x-python",
   "name": "python",
   "nbconvert_exporter": "python",
   "pygments_lexer": "ipython2",
   "version": "2.7.12"
  }
 },
 "nbformat": 4,
 "nbformat_minor": 0
}
